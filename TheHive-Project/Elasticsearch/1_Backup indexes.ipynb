{
 "cells": [
  {
   "cell_type": "markdown",
   "metadata": {},
   "source": [
    "# Backup indexes"
   ]
  },
  {
   "cell_type": "markdown",
   "metadata": {},
   "source": [
    "## Prerequisites"
   ]
  },
  {
   "cell_type": "markdown",
   "metadata": {},
   "source": [
    "```\n",
    "curl \n",
    "jq (https://stedolan.github.io/jq/)\n",
    "```\n",
    "\n",
    "both are available as packages in most linux distributions."
   ]
  },
  {
   "cell_type": "code",
   "execution_count": null,
   "metadata": {},
   "outputs": [],
   "source": [
    "ES_HOST=\"http://localhost:9200\""
   ]
  },
  {
   "cell_type": "markdown",
   "metadata": {},
   "source": [
    "## List if any index exist"
   ]
  },
  {
   "cell_type": "code",
   "execution_count": null,
   "metadata": {},
   "outputs": [],
   "source": [
    "curl -s ''${ES_HOST}'/_cat/indices?v'"
   ]
  },
  {
   "cell_type": "markdown",
   "metadata": {},
   "source": [
    "## Setting up variables"
   ]
  },
  {
   "cell_type": "code",
   "execution_count": null,
   "metadata": {},
   "outputs": [],
   "source": [
    "THEHIVE_INDEX=\"the_hive_15\"\n",
    "CORTEX_INDEX=\"cortex_4\"\n",
    "\n",
    "SNAPSHOT_PATH=\"the_hive_backup\"\n",
    "BACKUP_FOLDER=\"/opt/backup\"\n"
   ]
  },
  {
   "cell_type": "markdown",
   "metadata": {},
   "source": [
    "## Create the snapshot path"
   ]
  },
  {
   "cell_type": "code",
   "execution_count": null,
   "metadata": {
    "scrolled": true
   },
   "outputs": [],
   "source": [
    "curl -s -XPUT  -H 'Content-Type: application/json' ''${ES_HOST}'/_snapshot/'${SNAPSHOT_PATH}'' -d '{\n",
    "    \"type\": \"fs\",\n",
    "    \"settings\": {\n",
    "        \"location\": \"'${BACKUP_FOLDER}'\",\n",
    "        \"compress\": true\n",
    "    }}' | jq"
   ]
  },
  {
   "cell_type": "markdown",
   "metadata": {},
   "source": [
    "### List existing backups"
   ]
  },
  {
   "cell_type": "code",
   "execution_count": null,
   "metadata": {},
   "outputs": [],
   "source": [
    "curl -XGET  -H' Content-Type: application/json' ''${ES_HOST}'/_cat/snapshots/'${SNAPSHOT_PATH}''"
   ]
  },
  {
   "cell_type": "markdown",
   "metadata": {},
   "source": [
    "## Backup TheHive Index"
   ]
  },
  {
   "cell_type": "markdown",
   "metadata": {},
   "source": [
    "### Setting up variables"
   ]
  },
  {
   "cell_type": "code",
   "execution_count": null,
   "metadata": {},
   "outputs": [],
   "source": [
    "THEHIVE_SNAPSHOT=\"thehive_202010230-2\""
   ]
  },
  {
   "cell_type": "markdown",
   "metadata": {},
   "source": [
    "### Snapshot the current index"
   ]
  },
  {
   "cell_type": "code",
   "execution_count": null,
   "metadata": {},
   "outputs": [],
   "source": [
    "curl -s -XPUT  -H 'Content-Type: application/json' ''${ES_HOST}'/_snapshot/'${SNAPSHOT_PATH}/${THEHIVE_SNAPSHOT}'?wait_for_completion=true' -d '{\n",
    "    \"indices\":\"'\"$THEHIVE_INDEX\"'\"\n",
    "    }'| jq"
   ]
  },
  {
   "cell_type": "markdown",
   "metadata": {},
   "source": [
    "### List backups"
   ]
  },
  {
   "cell_type": "code",
   "execution_count": null,
   "metadata": {},
   "outputs": [],
   "source": [
    "curl -s -XGET  -H' Content-Type: application/json' ''${ES_HOST}'/_cat/snapshots/'${SNAPSHOT_PATH}''"
   ]
  },
  {
   "cell_type": "markdown",
   "metadata": {},
   "source": [
    "## Backup Cortex Index"
   ]
  },
  {
   "cell_type": "markdown",
   "metadata": {},
   "source": [
    "### Setting up variables"
   ]
  },
  {
   "cell_type": "code",
   "execution_count": null,
   "metadata": {},
   "outputs": [],
   "source": [
    "CORTEX_SNAPSHOT=\"cortex_202010230-2\""
   ]
  },
  {
   "cell_type": "markdown",
   "metadata": {},
   "source": [
    "### Snapshot the current index"
   ]
  },
  {
   "cell_type": "code",
   "execution_count": null,
   "metadata": {},
   "outputs": [],
   "source": [
    "curl -s -XPUT  -H 'Content-Type: application/json' ''${ES_HOST}'/_snapshot/'${SNAPSHOT_PATH}/${CORTEX_SNAPSHOT}'?wait_for_completion=true' -d '{\n",
    "    \"indices\":\"'\"$CORTEX_INDEX\"'\"\n",
    "    }'| jq"
   ]
  },
  {
   "cell_type": "markdown",
   "metadata": {},
   "source": [
    "### List backups"
   ]
  },
  {
   "cell_type": "code",
   "execution_count": null,
   "metadata": {},
   "outputs": [],
   "source": [
    "curl -s -XGET  -H' Content-Type: application/json' ''${ES_HOST}'/_cat/snapshots/'${SNAPSHOT_PATH}''"
   ]
  },
  {
   "cell_type": "markdown",
   "metadata": {},
   "source": [
    "### List indexes"
   ]
  },
  {
   "cell_type": "code",
   "execution_count": null,
   "metadata": {
    "scrolled": true
   },
   "outputs": [],
   "source": [
    "curl -s ''${ES_HOST}'/_cat/indices?v'"
   ]
  }
 ],
 "metadata": {
  "kernelspec": {
   "display_name": "Bash",
   "language": "bash",
   "name": "bash"
  },
  "language_info": {
   "codemirror_mode": "shell",
   "file_extension": ".sh",
   "mimetype": "text/x-sh",
   "name": "bash"
  }
 },
 "nbformat": 4,
 "nbformat_minor": 4
}
