{
 "cells": [
  {
   "cell_type": "markdown",
   "metadata": {},
   "source": [
    "# Restore indexes"
   ]
  },
  {
   "cell_type": "code",
   "execution_count": null,
   "metadata": {},
   "outputs": [],
   "source": [
    "ES_HOST=\"http://localhost:9200\""
   ]
  },
  {
   "cell_type": "markdown",
   "metadata": {},
   "source": [
    "## List if index exist"
   ]
  },
  {
   "cell_type": "code",
   "execution_count": null,
   "metadata": {},
   "outputs": [],
   "source": [
    "curl -s  ''${ES_HOST}'/_cat/indices?v'"
   ]
  },
  {
   "cell_type": "markdown",
   "metadata": {},
   "source": [
    "## Setting up variables"
   ]
  },
  {
   "cell_type": "code",
   "execution_count": null,
   "metadata": {},
   "outputs": [],
   "source": [
    "THEHIVE_INDEX=\"the_hive_15\"\n",
    "CORTEX_INDEX=\"cortex_4\"\n",
    "\n",
    "SNAPSHOT_PATH=\"the_hive_backup\"\n",
    "BACKUP_FOLDER=\".\"\n"
   ]
  },
  {
   "cell_type": "markdown",
   "metadata": {},
   "source": [
    "### Delete indices"
   ]
  },
  {
   "cell_type": "markdown",
   "metadata": {},
   "source": [
    "## Restore TheHive Index"
   ]
  },
  {
   "cell_type": "markdown",
   "metadata": {},
   "source": [
    "### Setup restore source folder"
   ]
  },
  {
   "cell_type": "code",
   "execution_count": null,
   "metadata": {},
   "outputs": [],
   "source": [
    "SNAPSHOT_PATH=\"the_hive_backup\"\n",
    "\n",
    "\n",
    "curl -s -XPUT ''${ES_HOST}'/_snapshot/'${SNAPSHOT_PATH}'' -H 'Content-Type: application/json' -d '{\n",
    "    \"type\": \"fs\",\n",
    "    \"settings\": {\n",
    "        \"location\": \"'${BACKUP_FOLDER}'\",\n",
    "        \"compress\": true\n",
    "    }\n",
    "}' | jq"
   ]
  },
  {
   "cell_type": "markdown",
   "metadata": {},
   "source": [
    "### List backups"
   ]
  },
  {
   "cell_type": "code",
   "execution_count": null,
   "metadata": {},
   "outputs": [],
   "source": [
    "curl -s -XGET  -H ' Content-Type: application/json' ''${ES_HOST}'/_cat/snapshots/'${SNAPSHOT_PATH}''"
   ]
  },
  {
   "cell_type": "markdown",
   "metadata": {},
   "source": [
    "### Restore TheHive data"
   ]
  },
  {
   "cell_type": "code",
   "execution_count": null,
   "metadata": {},
   "outputs": [],
   "source": [
    "THEHIVE_BACKUP_NAME=\"thehive_20201027-2\"\n",
    "\n",
    "\n",
    "curl -s -XPOST  -H 'Content-Type: application/json' \\\n",
    "''${ES_HOST}'/_snapshot/'${SNAPSHOT_PATH}'/'${THEHIVE_BACKUP_NAME}'/_restore' -d '{ \n",
    "\"indices\":\"'\"$THEHIVE_INDEX\"'\"\n",
    "}' | jq"
   ]
  },
  {
   "cell_type": "markdown",
   "metadata": {},
   "source": [
    "### List indexes"
   ]
  },
  {
   "cell_type": "code",
   "execution_count": null,
   "metadata": {
    "scrolled": true
   },
   "outputs": [],
   "source": [
    "curl -s ${ES_HOST}/_cat/indices\\?v"
   ]
  },
  {
   "cell_type": "markdown",
   "metadata": {},
   "source": [
    "## Restore Cortex Index"
   ]
  },
  {
   "cell_type": "markdown",
   "metadata": {},
   "source": [
    "### Setup restore source folder"
   ]
  },
  {
   "cell_type": "code",
   "execution_count": null,
   "metadata": {},
   "outputs": [],
   "source": [
    "BACKUP_FOLDER=\".\"\n",
    "CORTEX_SNAPSHOT_PATH=\"the_hive_backup\"\n",
    "\n",
    "curl -s -XPUT ''${ES_HOST}'/_snapshot/'${CORTEX_SNAPSHOT_PATH}'' -H 'Content-Type: application/json' -d '{\n",
    "    \"type\": \"fs\",\n",
    "    \"settings\": {\n",
    "        \"location\": \"'${BACKUP_FOLDER}'\",\n",
    "        \"compress\": true\n",
    "    }\n",
    "}' | jq"
   ]
  },
  {
   "cell_type": "markdown",
   "metadata": {},
   "source": [
    "### List backups"
   ]
  },
  {
   "cell_type": "code",
   "execution_count": null,
   "metadata": {},
   "outputs": [],
   "source": [
    "curl -s -XGET  -H' Content-Type: application/json' ''${ES_HOST}'/_cat/snapshots/'${CORTEX_SNAPSHOT_PATH}''"
   ]
  },
  {
   "cell_type": "markdown",
   "metadata": {},
   "source": [
    "### Restore  data"
   ]
  },
  {
   "cell_type": "code",
   "execution_count": null,
   "metadata": {},
   "outputs": [],
   "source": [
    "CORTEX_BACKUP_NAME=\"cortex_20201027-2\"\n",
    "\n",
    "curl -s -XPOST  -H 'Content-Type: application/json' \\\n",
    "''${ES_HOST}'/_snapshot/'${CORTEX_SNAPSHOT_PATH}'/'${CORTEX_BACKUP_NAME}'/_restore' -d '{\n",
    "\"indices\":\"'${CORTEX_INDEX}'\"\n",
    "}' | jq"
   ]
  },
  {
   "cell_type": "markdown",
   "metadata": {},
   "source": [
    "### List indexes"
   ]
  },
  {
   "cell_type": "code",
   "execution_count": null,
   "metadata": {
    "scrolled": true
   },
   "outputs": [],
   "source": [
    "curl -s ${ES_HOST}/_cat/indices\\?v"
   ]
  }
 ],
 "metadata": {
  "kernelspec": {
   "display_name": "Bash",
   "language": "bash",
   "name": "bash"
  },
  "language_info": {
   "codemirror_mode": "shell",
   "file_extension": ".sh",
   "mimetype": "text/x-sh",
   "name": "bash"
  }
 },
 "nbformat": 4,
 "nbformat_minor": 4
}
