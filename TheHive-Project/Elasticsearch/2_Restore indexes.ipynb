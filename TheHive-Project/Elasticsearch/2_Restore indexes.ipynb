{
 "cells": [
  {
   "cell_type": "markdown",
   "metadata": {},
   "source": [
    "# Restore indexes"
   ]
  },
  {
   "cell_type": "code",
   "execution_count": 140,
   "metadata": {},
   "outputs": [],
   "source": [
    "ES_HOST=\"http://localhost:9200\""
   ]
  },
  {
   "cell_type": "markdown",
   "metadata": {},
   "source": [
    "## List if index exist"
   ]
  },
  {
   "cell_type": "code",
   "execution_count": 141,
   "metadata": {},
   "outputs": [
    {
     "name": "stdout",
     "output_type": "stream",
     "text": [
      "health status index uuid pri rep docs.count docs.deleted store.size pri.store.size\n"
     ]
    }
   ],
   "source": [
    "curl -s ${ES_HOST}/_cat/indices\\?v"
   ]
  },
  {
   "cell_type": "markdown",
   "metadata": {},
   "source": [
    "## Setting up variables"
   ]
  },
  {
   "cell_type": "code",
   "execution_count": 142,
   "metadata": {},
   "outputs": [],
   "source": [
    "THEHIVE_INDEX=\"the_hive_15\"\n",
    "CORTEX_INDEX=\"cortex_4\"\n",
    "\n",
    "SNAPSHOT_PATH=\"the_hive_backup\"\n",
    "BACKUP_FOLDER=\".\"\n"
   ]
  },
  {
   "cell_type": "markdown",
   "metadata": {},
   "source": [
    "## Start with no index"
   ]
  },
  {
   "cell_type": "markdown",
   "metadata": {},
   "source": [
    " ⚠️  **DO NOT RUN THIS UNTIL YOU KNOW WHAT YOU ARE DOING** - **IF NOT GO TO** \"Restore TheHive Index\" **instead**"
   ]
  },
  {
   "cell_type": "markdown",
   "metadata": {},
   "source": [
    "### Delete indices"
   ]
  },
  {
   "cell_type": "code",
   "execution_count": 132,
   "metadata": {
    "scrolled": true
   },
   "outputs": [
    {
     "name": "stdout",
     "output_type": "stream",
     "text": [
      "Run the following command to delete thehive index named new_the_hive_15:\n",
      "curl -s XDELETE http://localhost:9200/new_the_hive_15 | jq\n",
      "\n",
      "Run the following command to delete Cortex index named new_cortex_4\n",
      "curl -s XDELETE http://localhost:9200/new_cortex_4 | jq\n"
     ]
    }
   ],
   "source": [
    "echo -e \"Run the following command to delete thehive index named $THEHIVE_INDEX:\"\n",
    "echo -e \"curl -s XDELETE ${ES_HOST}/${THEHIVE_INDEX} | jq\\n\" \n",
    "echo -e \"Run the following command to delete Cortex index named $CORTEX_INDEX\"\n",
    "echo -e \"curl -s XDELETE ${ES_HOST}/${CORTEX_INDEX} | jq\" "
   ]
  },
  {
   "cell_type": "markdown",
   "metadata": {},
   "source": [
    "### Delete TheHive Index"
   ]
  },
  {
   "cell_type": "code",
   "execution_count": 138,
   "metadata": {},
   "outputs": [
    {
     "name": "stdout",
     "output_type": "stream",
     "text": [
      "\n",
      "\u001b[1;39m{\n",
      "  \u001b[0m\u001b[34;1m\"acknowledged\"\u001b[0m\u001b[1;39m: \u001b[0m\u001b[0;39mtrue\u001b[0m\u001b[1;39m\n",
      "\u001b[1;39m}\u001b[0m\n"
     ]
    }
   ],
   "source": [
    "echo $NEW_THEHIVE_INDEX\n",
    "curl -s -XDELETE ${ES_HOST}/$THEHIVE_INDEX | jq"
   ]
  },
  {
   "cell_type": "markdown",
   "metadata": {},
   "source": [
    "### Delete Cortex Index"
   ]
  },
  {
   "cell_type": "code",
   "execution_count": 134,
   "metadata": {},
   "outputs": [
    {
     "name": "stdout",
     "output_type": "stream",
     "text": [
      "\u001b[1;39m{\n",
      "  \u001b[0m\u001b[34;1m\"acknowledged\"\u001b[0m\u001b[1;39m: \u001b[0m\u001b[0;39mtrue\u001b[0m\u001b[1;39m\n",
      "\u001b[1;39m}\u001b[0m\n"
     ]
    }
   ],
   "source": [
    "curl -s -XDELETE ${ES_HOST}/$CORTEX_INDEX | jq"
   ]
  },
  {
   "cell_type": "markdown",
   "metadata": {},
   "source": [
    "## Restore TheHive Index"
   ]
  },
  {
   "cell_type": "markdown",
   "metadata": {},
   "source": [
    "### Setup restore source folder"
   ]
  },
  {
   "cell_type": "code",
   "execution_count": 143,
   "metadata": {},
   "outputs": [
    {
     "name": "stdout",
     "output_type": "stream",
     "text": [
      "\u001b[1;39m{\n",
      "  \u001b[0m\u001b[34;1m\"acknowledged\"\u001b[0m\u001b[1;39m: \u001b[0m\u001b[0;39mtrue\u001b[0m\u001b[1;39m\n",
      "\u001b[1;39m}\u001b[0m\n"
     ]
    }
   ],
   "source": [
    "SNAPSHOT_PATH=\"the_hive_backup\"\n",
    "\n",
    "\n",
    "curl -s -XPUT ''${ES_HOST}'/_snapshot/'${SNAPSHOT_PATH}'' -H 'Content-Type: application/json' -d '{\n",
    "    \"type\": \"fs\",\n",
    "    \"settings\": {\n",
    "        \"location\": \"'${BACKUP_FOLDER}'\",\n",
    "        \"compress\": true\n",
    "    }\n",
    "}' | jq"
   ]
  },
  {
   "cell_type": "markdown",
   "metadata": {},
   "source": [
    "### List backups"
   ]
  },
  {
   "cell_type": "code",
   "execution_count": 144,
   "metadata": {},
   "outputs": [
    {
     "name": "stdout",
     "output_type": "stream",
     "text": [
      "snapshot_1          SUCCESS 1517236911 14:41:51 1517236925 14:42:05 13.6s 17 41 0 41\n",
      "snapshot_2          SUCCESS 1542307572 18:46:12 1542307573 18:46:13 849ms  1  5 0  5\n",
      "snapshot_20181212   SUCCESS 1544617667 12:27:47 1544617667 12:27:47 545ms  1  5 0  5\n",
      "before_demo         SUCCESS 1553003263 13:47:43 1553003265 13:47:45  2.2s  1  5 0  5\n",
      "snapshot_3          SUCCESS 1554119454 11:50:54 1554119455 11:50:55  1.6s  1  5 0  5\n",
      "snapshot_20200804_1 SUCCESS 1596548429 13:40:29 1596548429 13:40:29  22ms  0  0 0  0\n",
      "snapshot_20200804_2 SUCCESS 1596550212 14:10:12 1596550215 14:10:15    3s  1  5 0  5\n",
      "snapshot_20200304_3 SUCCESS 1599684050 20:40:50 1599684053 20:40:53  3.4s  1  5 0  5\n",
      "snapshot_20200910_3 SUCCESS 1599684068 20:41:08 1599684068 20:41:08  84ms  1  5 0  5\n",
      "snapshot_20200910_1 SUCCESS 1599684085 20:41:25 1599684085 20:41:25 117ms  1  5 0  5\n",
      "thehive_20201027-1  SUCCESS 1603821541 17:59:01 1603821542 17:59:02  1.2s  1  5 0  5\n",
      "thehive_20201027-2  SUCCESS 1603821692 18:01:32 1603821692 18:01:32  67ms  1  5 0  5\n",
      "cortex_20201027-2   SUCCESS 1603822017 18:06:57 1603822018 18:06:58  1.6s  1  5 0  5\n"
     ]
    }
   ],
   "source": [
    "curl -s -XGET  -H' Content-Type: application/json' ''${ES_HOST}'/_cat/snapshots/'${SNAPSHOT_PATH}''"
   ]
  },
  {
   "cell_type": "markdown",
   "metadata": {},
   "source": [
    "### Restore TheHive data"
   ]
  },
  {
   "cell_type": "code",
   "execution_count": 145,
   "metadata": {},
   "outputs": [
    {
     "name": "stdout",
     "output_type": "stream",
     "text": [
      "\u001b[1;39m{\n",
      "  \u001b[0m\u001b[34;1m\"accepted\"\u001b[0m\u001b[1;39m: \u001b[0m\u001b[0;39mtrue\u001b[0m\u001b[1;39m\n",
      "\u001b[1;39m}\u001b[0m\n"
     ]
    }
   ],
   "source": [
    "THEHIVE_BACKUP_NAME=\"thehive_20201027-2\"\n",
    "\n",
    "\n",
    "curl -s -XPOST  -H 'Content-Type: application/json' \\\n",
    "''${ES_HOST}'/_snapshot/'${SNAPSHOT_PATH}'/'${THEHIVE_BACKUP_NAME}'/_restore' -d '{ \n",
    "\"indices\":\"'\"$THEHIVE_INDEX\"'\"\n",
    "}' | jq"
   ]
  },
  {
   "cell_type": "markdown",
   "metadata": {},
   "source": [
    "### List indexes"
   ]
  },
  {
   "cell_type": "code",
   "execution_count": 146,
   "metadata": {
    "scrolled": true
   },
   "outputs": [
    {
     "name": "stdout",
     "output_type": "stream",
     "text": [
      "health status index       uuid                   pri rep docs.count docs.deleted store.size pri.store.size\n",
      "yellow open   the_hive_15 KWvzTzq4RQOrSNCcaNstrw   5   0      26310           14        5mb            5mb\n"
     ]
    }
   ],
   "source": [
    "curl -s ${ES_HOST}/_cat/indices\\?v"
   ]
  },
  {
   "cell_type": "markdown",
   "metadata": {},
   "source": [
    "## Restore Cortex Index"
   ]
  },
  {
   "cell_type": "markdown",
   "metadata": {},
   "source": [
    "### Setup restore source folder"
   ]
  },
  {
   "cell_type": "code",
   "execution_count": 147,
   "metadata": {},
   "outputs": [
    {
     "name": "stdout",
     "output_type": "stream",
     "text": [
      "\u001b[1;39m{\n",
      "  \u001b[0m\u001b[34;1m\"acknowledged\"\u001b[0m\u001b[1;39m: \u001b[0m\u001b[0;39mtrue\u001b[0m\u001b[1;39m\n",
      "\u001b[1;39m}\u001b[0m\n"
     ]
    }
   ],
   "source": [
    "BACKUP_FOLDER=\".\"\n",
    "CORTEX_SNAPSHOT_PATH=\"the_hive_backup\"\n",
    "\n",
    "curl -s -XPUT ''${ES_HOST}'/_snapshot/'${CORTEX_SNAPSHOT_PATH}'' -H 'Content-Type: application/json' -d '{\n",
    "    \"type\": \"fs\",\n",
    "    \"settings\": {\n",
    "        \"location\": \"'${BACKUP_FOLDER}'\",\n",
    "        \"compress\": true\n",
    "    }\n",
    "}' | jq"
   ]
  },
  {
   "cell_type": "markdown",
   "metadata": {},
   "source": [
    "### List backups"
   ]
  },
  {
   "cell_type": "code",
   "execution_count": 148,
   "metadata": {},
   "outputs": [
    {
     "name": "stdout",
     "output_type": "stream",
     "text": [
      "snapshot_1          SUCCESS 1517236911 14:41:51 1517236925 14:42:05 13.6s 17 41 0 41\n",
      "snapshot_2          SUCCESS 1542307572 18:46:12 1542307573 18:46:13 849ms  1  5 0  5\n",
      "snapshot_20181212   SUCCESS 1544617667 12:27:47 1544617667 12:27:47 545ms  1  5 0  5\n",
      "before_demo         SUCCESS 1553003263 13:47:43 1553003265 13:47:45  2.2s  1  5 0  5\n",
      "snapshot_3          SUCCESS 1554119454 11:50:54 1554119455 11:50:55  1.6s  1  5 0  5\n",
      "snapshot_20200804_1 SUCCESS 1596548429 13:40:29 1596548429 13:40:29  22ms  0  0 0  0\n",
      "snapshot_20200804_2 SUCCESS 1596550212 14:10:12 1596550215 14:10:15    3s  1  5 0  5\n",
      "snapshot_20200304_3 SUCCESS 1599684050 20:40:50 1599684053 20:40:53  3.4s  1  5 0  5\n",
      "snapshot_20200910_3 SUCCESS 1599684068 20:41:08 1599684068 20:41:08  84ms  1  5 0  5\n",
      "snapshot_20200910_1 SUCCESS 1599684085 20:41:25 1599684085 20:41:25 117ms  1  5 0  5\n",
      "thehive_20201027-1  SUCCESS 1603821541 17:59:01 1603821542 17:59:02  1.2s  1  5 0  5\n",
      "thehive_20201027-2  SUCCESS 1603821692 18:01:32 1603821692 18:01:32  67ms  1  5 0  5\n",
      "cortex_20201027-2   SUCCESS 1603822017 18:06:57 1603822018 18:06:58  1.6s  1  5 0  5\n"
     ]
    }
   ],
   "source": [
    "curl -s -XGET  -H' Content-Type: application/json' ''${ES_HOST}'/_cat/snapshots/'${CORTEX_SNAPSHOT_PATH}''"
   ]
  },
  {
   "cell_type": "markdown",
   "metadata": {},
   "source": [
    "### Restore  data"
   ]
  },
  {
   "cell_type": "code",
   "execution_count": 149,
   "metadata": {},
   "outputs": [
    {
     "name": "stdout",
     "output_type": "stream",
     "text": [
      "\u001b[1;39m{\n",
      "  \u001b[0m\u001b[34;1m\"accepted\"\u001b[0m\u001b[1;39m: \u001b[0m\u001b[0;39mtrue\u001b[0m\u001b[1;39m\n",
      "\u001b[1;39m}\u001b[0m\n"
     ]
    }
   ],
   "source": [
    "CORTEX_BACKUP_NAME=\"cortex_20201027-2\"\n",
    "\n",
    "curl -s -XPOST  -H 'Content-Type: application/json' \\\n",
    "''${ES_HOST}'/_snapshot/'${CORTEX_SNAPSHOT_PATH}'/'${CORTEX_BACKUP_NAME}'/_restore' -d '{\n",
    "\"indices\":\"'${CORTEX_INDEX}'\"\n",
    "}' | jq"
   ]
  },
  {
   "cell_type": "markdown",
   "metadata": {},
   "source": [
    "### List indexes"
   ]
  },
  {
   "cell_type": "code",
   "execution_count": 151,
   "metadata": {
    "scrolled": true
   },
   "outputs": [
    {
     "name": "stdout",
     "output_type": "stream",
     "text": [
      "health status index       uuid                   pri rep docs.count docs.deleted store.size pri.store.size\n",
      "green  open   the_hive_15 KWvzTzq4RQOrSNCcaNstrw   5   0      30998           16     33.2mb         33.2mb\n",
      "green  open   cortex_4    Tu7saVsaRwWZ1X6VHdsg4w   5   0       8531            8      3.8mb          3.8mb\n"
     ]
    }
   ],
   "source": [
    "curl -s ${ES_HOST}/_cat/indices\\?v"
   ]
  },
  {
   "cell_type": "code",
   "execution_count": null,
   "metadata": {},
   "outputs": [],
   "source": []
  },
  {
   "cell_type": "code",
   "execution_count": null,
   "metadata": {},
   "outputs": [],
   "source": []
  }
 ],
 "metadata": {
  "kernelspec": {
   "display_name": "Bash",
   "language": "bash",
   "name": "bash"
  },
  "language_info": {
   "codemirror_mode": "shell",
   "file_extension": ".sh",
   "mimetype": "text/x-sh",
   "name": "bash"
  }
 },
 "nbformat": 4,
 "nbformat_minor": 4
}
