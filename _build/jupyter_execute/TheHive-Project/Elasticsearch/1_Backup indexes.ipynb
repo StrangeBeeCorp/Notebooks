{
 "cells": [
  {
   "cell_type": "markdown",
   "metadata": {},
   "source": [
    "# Backup indexes"
   ]
  },
  {
   "cell_type": "markdown",
   "metadata": {},
   "source": [
    "## Prerequisites"
   ]
  },
  {
   "cell_type": "markdown",
   "metadata": {},
   "source": [
    "```\n",
    "curl \n",
    "jq (https://stedolan.github.io/jq/)\n",
    "```\n",
    "\n",
    "both are available as packages in most linux distributions."
   ]
  },
  {
   "cell_type": "code",
   "execution_count": 1,
   "metadata": {},
   "outputs": [],
   "source": [
    "ES_HOST=\"http://localhost:9200\""
   ]
  },
  {
   "cell_type": "markdown",
   "metadata": {},
   "source": [
    "## List if any index exist"
   ]
  },
  {
   "cell_type": "code",
   "execution_count": 2,
   "metadata": {},
   "outputs": [
    {
     "ename": "",
     "evalue": "7",
     "output_type": "error",
     "traceback": []
    }
   ],
   "source": [
    "curl -s ${ES_HOST}/_cat/indices\\?v"
   ]
  },
  {
   "cell_type": "markdown",
   "metadata": {},
   "source": [
    "## Setting up variables"
   ]
  },
  {
   "cell_type": "code",
   "execution_count": 22,
   "metadata": {},
   "outputs": [],
   "source": [
    "THEHIVE_INDEX=\"the_hive_15\"\n",
    "CORTEX_INDEX=\"cortex_4\"\n",
    "\n",
    "SNAPSHOT_PATH=\"the_hive_backup\"\n",
    "BACKUP_FOLDER=\"/opt/backup\"\n"
   ]
  },
  {
   "cell_type": "markdown",
   "metadata": {},
   "source": [
    "## Create the snapshot path"
   ]
  },
  {
   "cell_type": "code",
   "execution_count": 23,
   "metadata": {
    "scrolled": true
   },
   "outputs": [
    {
     "name": "stdout",
     "output_type": "stream",
     "text": [
      "  % Total    % Received % Xferd  Average Speed   Time    Time     Time  Current\n",
      "                                 Dload  Upload   Total   Spent    Left  Speed\n",
      "100   125  100    21  100   104   1182   5857 --:--:-- --:--:-- --:--:--  6117\n",
      "\u001b[1;39m{\n",
      "  \u001b[0m\u001b[34;1m\"acknowledged\"\u001b[0m\u001b[1;39m: \u001b[0m\u001b[0;39mtrue\u001b[0m\u001b[1;39m\n",
      "\u001b[1;39m}\u001b[0m\n"
     ]
    }
   ],
   "source": [
    "curl -XPUT  -H 'Content-Type: application/json' ''${ES_HOST}'/_snapshot/'${SNAPSHOT_PATH}'' -d '{\n",
    "    \"type\": \"fs\",\n",
    "    \"settings\": {\n",
    "        \"location\": \"'${BACKUP_FOLDER}'\",\n",
    "        \"compress\": true\n",
    "    }}' | jq"
   ]
  },
  {
   "cell_type": "markdown",
   "metadata": {},
   "source": [
    "### List existing backups"
   ]
  },
  {
   "cell_type": "code",
   "execution_count": 27,
   "metadata": {},
   "outputs": [
    {
     "name": "stdout",
     "output_type": "stream",
     "text": [
      "snapshot_1          SUCCESS 1517236911 14:41:51 1517236925 14:42:05 13.6s 17 41 0 41\n",
      "snapshot_2          SUCCESS 1542307572 18:46:12 1542307573 18:46:13 849ms  1  5 0  5\n",
      "snapshot_20181212   SUCCESS 1544617667 12:27:47 1544617667 12:27:47 545ms  1  5 0  5\n",
      "before_demo         SUCCESS 1553003263 13:47:43 1553003265 13:47:45  2.2s  1  5 0  5\n",
      "snapshot_3          SUCCESS 1554119454 11:50:54 1554119455 11:50:55  1.6s  1  5 0  5\n",
      "snapshot_20200804_1 SUCCESS 1596548429 13:40:29 1596548429 13:40:29  22ms  0  0 0  0\n",
      "snapshot_20200804_2 SUCCESS 1596550212 14:10:12 1596550215 14:10:15    3s  1  5 0  5\n",
      "snapshot_20200304_3 SUCCESS 1599684050 20:40:50 1599684053 20:40:53  3.4s  1  5 0  5\n",
      "snapshot_20200910_3 SUCCESS 1599684068 20:41:08 1599684068 20:41:08  84ms  1  5 0  5\n",
      "snapshot_20200910_1 SUCCESS 1599684085 20:41:25 1599684085 20:41:25 117ms  1  5 0  5\n",
      "thehive_20201027-1  SUCCESS 1603821541 17:59:01 1603821542 17:59:02  1.2s  1  5 0  5\n",
      "thehive_20201027-2  SUCCESS 1603821692 18:01:32 1603821692 18:01:32  67ms  1  5 0  5\n",
      "cortex_20201027-2   SUCCESS 1603822017 18:06:57 1603822018 18:06:58  1.6s  1  5 0  5\n"
     ]
    }
   ],
   "source": [
    "curl -XGET  -H' Content-Type: application/json' ''${ES_HOST}'/_cat/snapshots/'${SNAPSHOT_PATH}''"
   ]
  },
  {
   "cell_type": "markdown",
   "metadata": {},
   "source": [
    "## Backup TheHive Index"
   ]
  },
  {
   "cell_type": "markdown",
   "metadata": {},
   "source": [
    "### Setting up variables"
   ]
  },
  {
   "cell_type": "code",
   "execution_count": 25,
   "metadata": {},
   "outputs": [],
   "source": [
    "THEHIVE_SNAPSHOT=\"thehive_202010230-1\""
   ]
  },
  {
   "cell_type": "markdown",
   "metadata": {},
   "source": [
    "### Snapshot the current index"
   ]
  },
  {
   "cell_type": "code",
   "execution_count": 33,
   "metadata": {},
   "outputs": [
    {
     "name": "stdout",
     "output_type": "stream",
     "text": [
      "  % Total    % Received % Xferd  Average Speed   Time    Time     Time  Current\n",
      "                                 Dload  Upload   Total   Spent    Left  Speed\n",
      "100   462  100   427  100    35   1653    135 --:--:-- --:--:-- --:--:--  1655\n",
      "\u001b[1;39m{\n",
      "  \u001b[0m\u001b[34;1m\"snapshot\"\u001b[0m\u001b[1;39m: \u001b[0m\u001b[1;39m{\n",
      "    \u001b[0m\u001b[34;1m\"snapshot\"\u001b[0m\u001b[1;39m: \u001b[0m\u001b[0;32m\"thehive_202010230-1\"\u001b[0m\u001b[1;39m,\n",
      "    \u001b[0m\u001b[34;1m\"uuid\"\u001b[0m\u001b[1;39m: \u001b[0m\u001b[0;32m\"W3nSqccxTN6_BoorbfP5RQ\"\u001b[0m\u001b[1;39m,\n",
      "    \u001b[0m\u001b[34;1m\"version_id\"\u001b[0m\u001b[1;39m: \u001b[0m\u001b[0;39m6081399\u001b[0m\u001b[1;39m,\n",
      "    \u001b[0m\u001b[34;1m\"version\"\u001b[0m\u001b[1;39m: \u001b[0m\u001b[0;32m\"6.8.13\"\u001b[0m\u001b[1;39m,\n",
      "    \u001b[0m\u001b[34;1m\"indices\"\u001b[0m\u001b[1;39m: \u001b[0m\u001b[1;39m[\n",
      "      \u001b[0;32m\"the_hive_15\"\u001b[0m\u001b[1;39m\n",
      "    \u001b[1;39m]\u001b[0m\u001b[1;39m,\n",
      "    \u001b[0m\u001b[34;1m\"include_global_state\"\u001b[0m\u001b[1;39m: \u001b[0m\u001b[0;39mtrue\u001b[0m\u001b[1;39m,\n",
      "    \u001b[0m\u001b[34;1m\"state\"\u001b[0m\u001b[1;39m: \u001b[0m\u001b[0;32m\"SUCCESS\"\u001b[0m\u001b[1;39m,\n",
      "    \u001b[0m\u001b[34;1m\"start_time\"\u001b[0m\u001b[1;39m: \u001b[0m\u001b[0;32m\"2020-10-30T08:24:37.512Z\"\u001b[0m\u001b[1;39m,\n",
      "    \u001b[0m\u001b[34;1m\"start_time_in_millis\"\u001b[0m\u001b[1;39m: \u001b[0m\u001b[0;39m1604046277512\u001b[0m\u001b[1;39m,\n",
      "    \u001b[0m\u001b[34;1m\"end_time\"\u001b[0m\u001b[1;39m: \u001b[0m\u001b[0;32m\"2020-10-30T08:24:37.731Z\"\u001b[0m\u001b[1;39m,\n",
      "    \u001b[0m\u001b[34;1m\"end_time_in_millis\"\u001b[0m\u001b[1;39m: \u001b[0m\u001b[0;39m1604046277731\u001b[0m\u001b[1;39m,\n",
      "    \u001b[0m\u001b[34;1m\"duration_in_millis\"\u001b[0m\u001b[1;39m: \u001b[0m\u001b[0;39m219\u001b[0m\u001b[1;39m,\n",
      "    \u001b[0m\u001b[34;1m\"failures\"\u001b[0m\u001b[1;39m: \u001b[0m\u001b[1;39m[]\u001b[0m\u001b[1;39m,\n",
      "    \u001b[0m\u001b[34;1m\"shards\"\u001b[0m\u001b[1;39m: \u001b[0m\u001b[1;39m{\n",
      "      \u001b[0m\u001b[34;1m\"total\"\u001b[0m\u001b[1;39m: \u001b[0m\u001b[0;39m5\u001b[0m\u001b[1;39m,\n",
      "      \u001b[0m\u001b[34;1m\"failed\"\u001b[0m\u001b[1;39m: \u001b[0m\u001b[0;39m0\u001b[0m\u001b[1;39m,\n",
      "      \u001b[0m\u001b[34;1m\"successful\"\u001b[0m\u001b[1;39m: \u001b[0m\u001b[0;39m5\u001b[0m\u001b[1;39m\n",
      "    \u001b[1;39m}\u001b[0m\u001b[1;39m\n",
      "  \u001b[1;39m}\u001b[0m\u001b[1;39m\n",
      "\u001b[1;39m}\u001b[0m\n"
     ]
    }
   ],
   "source": [
    "curl -XPUT  -H 'Content-Type: application/json' ''${ES_HOST}'/_snapshot/'${SNAPSHOT_PATH}/${THEHIVE_SNAPSHOT}'?wait_for_completion=true' -d '{\n",
    "    \"indices\":\"'\"$THEHIVE_INDEX\"'\"\n",
    "    }'| jq"
   ]
  },
  {
   "cell_type": "markdown",
   "metadata": {},
   "source": [
    "### List backups"
   ]
  },
  {
   "cell_type": "code",
   "execution_count": 34,
   "metadata": {},
   "outputs": [
    {
     "name": "stdout",
     "output_type": "stream",
     "text": [
      "snapshot_1          SUCCESS 1517236911 14:41:51 1517236925 14:42:05 13.6s 17 41 0 41\n",
      "snapshot_2          SUCCESS 1542307572 18:46:12 1542307573 18:46:13 849ms  1  5 0  5\n",
      "snapshot_20181212   SUCCESS 1544617667 12:27:47 1544617667 12:27:47 545ms  1  5 0  5\n",
      "before_demo         SUCCESS 1553003263 13:47:43 1553003265 13:47:45  2.2s  1  5 0  5\n",
      "snapshot_3          SUCCESS 1554119454 11:50:54 1554119455 11:50:55  1.6s  1  5 0  5\n",
      "snapshot_20200804_1 SUCCESS 1596548429 13:40:29 1596548429 13:40:29  22ms  0  0 0  0\n",
      "snapshot_20200804_2 SUCCESS 1596550212 14:10:12 1596550215 14:10:15    3s  1  5 0  5\n",
      "snapshot_20200304_3 SUCCESS 1599684050 20:40:50 1599684053 20:40:53  3.4s  1  5 0  5\n",
      "snapshot_20200910_3 SUCCESS 1599684068 20:41:08 1599684068 20:41:08  84ms  1  5 0  5\n",
      "snapshot_20200910_1 SUCCESS 1599684085 20:41:25 1599684085 20:41:25 117ms  1  5 0  5\n",
      "thehive_20201027-1  SUCCESS 1603821541 17:59:01 1603821542 17:59:02  1.2s  1  5 0  5\n",
      "thehive_20201027-2  SUCCESS 1603821692 18:01:32 1603821692 18:01:32  67ms  1  5 0  5\n",
      "cortex_20201027-2   SUCCESS 1603822017 18:06:57 1603822018 18:06:58  1.6s  1  5 0  5\n",
      "thehive_202010230-1 SUCCESS 1604046277 08:24:37 1604046277 08:24:37 219ms  1  5 0  5\n"
     ]
    }
   ],
   "source": [
    "curl -s -XGET  -H' Content-Type: application/json' ''${ES_HOST}'/_cat/snapshots/'${SNAPSHOT_PATH}''"
   ]
  },
  {
   "cell_type": "markdown",
   "metadata": {},
   "source": [
    "## Backup Cortex Index"
   ]
  },
  {
   "cell_type": "markdown",
   "metadata": {},
   "source": [
    "### Setting up variables"
   ]
  },
  {
   "cell_type": "code",
   "execution_count": 35,
   "metadata": {},
   "outputs": [],
   "source": [
    "CORTEX_SNAPSHOT=\"cortex_202010230-1\""
   ]
  },
  {
   "cell_type": "markdown",
   "metadata": {},
   "source": [
    "### Snapshot the current index"
   ]
  },
  {
   "cell_type": "code",
   "execution_count": 36,
   "metadata": {},
   "outputs": [
    {
     "name": "stdout",
     "output_type": "stream",
     "text": [
      "  % Total    % Received % Xferd  Average Speed   Time    Time     Time  Current\n",
      "                                 Dload  Upload   Total   Spent    Left  Speed\n",
      "100   455  100   423  100    32   1466    110 --:--:-- --:--:-- --:--:--  1468\n",
      "\u001b[1;39m{\n",
      "  \u001b[0m\u001b[34;1m\"snapshot\"\u001b[0m\u001b[1;39m: \u001b[0m\u001b[1;39m{\n",
      "    \u001b[0m\u001b[34;1m\"snapshot\"\u001b[0m\u001b[1;39m: \u001b[0m\u001b[0;32m\"cortex_202010230-1\"\u001b[0m\u001b[1;39m,\n",
      "    \u001b[0m\u001b[34;1m\"uuid\"\u001b[0m\u001b[1;39m: \u001b[0m\u001b[0;32m\"ghG_VzJVQYaxqADmFOfOZQ\"\u001b[0m\u001b[1;39m,\n",
      "    \u001b[0m\u001b[34;1m\"version_id\"\u001b[0m\u001b[1;39m: \u001b[0m\u001b[0;39m6081399\u001b[0m\u001b[1;39m,\n",
      "    \u001b[0m\u001b[34;1m\"version\"\u001b[0m\u001b[1;39m: \u001b[0m\u001b[0;32m\"6.8.13\"\u001b[0m\u001b[1;39m,\n",
      "    \u001b[0m\u001b[34;1m\"indices\"\u001b[0m\u001b[1;39m: \u001b[0m\u001b[1;39m[\n",
      "      \u001b[0;32m\"cortex_4\"\u001b[0m\u001b[1;39m\n",
      "    \u001b[1;39m]\u001b[0m\u001b[1;39m,\n",
      "    \u001b[0m\u001b[34;1m\"include_global_state\"\u001b[0m\u001b[1;39m: \u001b[0m\u001b[0;39mtrue\u001b[0m\u001b[1;39m,\n",
      "    \u001b[0m\u001b[34;1m\"state\"\u001b[0m\u001b[1;39m: \u001b[0m\u001b[0;32m\"SUCCESS\"\u001b[0m\u001b[1;39m,\n",
      "    \u001b[0m\u001b[34;1m\"start_time\"\u001b[0m\u001b[1;39m: \u001b[0m\u001b[0;32m\"2020-10-30T08:25:02.378Z\"\u001b[0m\u001b[1;39m,\n",
      "    \u001b[0m\u001b[34;1m\"start_time_in_millis\"\u001b[0m\u001b[1;39m: \u001b[0m\u001b[0;39m1604046302378\u001b[0m\u001b[1;39m,\n",
      "    \u001b[0m\u001b[34;1m\"end_time\"\u001b[0m\u001b[1;39m: \u001b[0m\u001b[0;32m\"2020-10-30T08:25:02.638Z\"\u001b[0m\u001b[1;39m,\n",
      "    \u001b[0m\u001b[34;1m\"end_time_in_millis\"\u001b[0m\u001b[1;39m: \u001b[0m\u001b[0;39m1604046302638\u001b[0m\u001b[1;39m,\n",
      "    \u001b[0m\u001b[34;1m\"duration_in_millis\"\u001b[0m\u001b[1;39m: \u001b[0m\u001b[0;39m260\u001b[0m\u001b[1;39m,\n",
      "    \u001b[0m\u001b[34;1m\"failures\"\u001b[0m\u001b[1;39m: \u001b[0m\u001b[1;39m[]\u001b[0m\u001b[1;39m,\n",
      "    \u001b[0m\u001b[34;1m\"shards\"\u001b[0m\u001b[1;39m: \u001b[0m\u001b[1;39m{\n",
      "      \u001b[0m\u001b[34;1m\"total\"\u001b[0m\u001b[1;39m: \u001b[0m\u001b[0;39m5\u001b[0m\u001b[1;39m,\n",
      "      \u001b[0m\u001b[34;1m\"failed\"\u001b[0m\u001b[1;39m: \u001b[0m\u001b[0;39m0\u001b[0m\u001b[1;39m,\n",
      "      \u001b[0m\u001b[34;1m\"successful\"\u001b[0m\u001b[1;39m: \u001b[0m\u001b[0;39m5\u001b[0m\u001b[1;39m\n",
      "    \u001b[1;39m}\u001b[0m\u001b[1;39m\n",
      "  \u001b[1;39m}\u001b[0m\u001b[1;39m\n",
      "\u001b[1;39m}\u001b[0m\n"
     ]
    }
   ],
   "source": [
    "curl -XPUT  -H 'Content-Type: application/json' ''${ES_HOST}'/_snapshot/'${SNAPSHOT_PATH}/${CORTEX_SNAPSHOT}'?wait_for_completion=true' -d '{\n",
    "    \"indices\":\"'\"$CORTEX_INDEX\"'\"\n",
    "    }'| jq"
   ]
  },
  {
   "cell_type": "markdown",
   "metadata": {},
   "source": [
    "### List backups"
   ]
  },
  {
   "cell_type": "code",
   "execution_count": 37,
   "metadata": {},
   "outputs": [
    {
     "name": "stdout",
     "output_type": "stream",
     "text": [
      "snapshot_1          SUCCESS 1517236911 14:41:51 1517236925 14:42:05 13.6s 17 41 0 41\n",
      "snapshot_2          SUCCESS 1542307572 18:46:12 1542307573 18:46:13 849ms  1  5 0  5\n",
      "snapshot_20181212   SUCCESS 1544617667 12:27:47 1544617667 12:27:47 545ms  1  5 0  5\n",
      "before_demo         SUCCESS 1553003263 13:47:43 1553003265 13:47:45  2.2s  1  5 0  5\n",
      "snapshot_3          SUCCESS 1554119454 11:50:54 1554119455 11:50:55  1.6s  1  5 0  5\n",
      "snapshot_20200804_1 SUCCESS 1596548429 13:40:29 1596548429 13:40:29  22ms  0  0 0  0\n",
      "snapshot_20200804_2 SUCCESS 1596550212 14:10:12 1596550215 14:10:15    3s  1  5 0  5\n",
      "snapshot_20200304_3 SUCCESS 1599684050 20:40:50 1599684053 20:40:53  3.4s  1  5 0  5\n",
      "snapshot_20200910_3 SUCCESS 1599684068 20:41:08 1599684068 20:41:08  84ms  1  5 0  5\n",
      "snapshot_20200910_1 SUCCESS 1599684085 20:41:25 1599684085 20:41:25 117ms  1  5 0  5\n",
      "thehive_20201027-1  SUCCESS 1603821541 17:59:01 1603821542 17:59:02  1.2s  1  5 0  5\n",
      "thehive_20201027-2  SUCCESS 1603821692 18:01:32 1603821692 18:01:32  67ms  1  5 0  5\n",
      "cortex_20201027-2   SUCCESS 1603822017 18:06:57 1603822018 18:06:58  1.6s  1  5 0  5\n",
      "thehive_202010230-1 SUCCESS 1604046277 08:24:37 1604046277 08:24:37 219ms  1  5 0  5\n",
      "cortex_202010230-1  SUCCESS 1604046302 08:25:02 1604046302 08:25:02 260ms  1  5 0  5\n"
     ]
    }
   ],
   "source": [
    "curl -s -XGET  -H' Content-Type: application/json' ''${ES_HOST}'/_cat/snapshots/'${SNAPSHOT_PATH}''"
   ]
  },
  {
   "cell_type": "markdown",
   "metadata": {},
   "source": [
    "### List indexes"
   ]
  },
  {
   "cell_type": "code",
   "execution_count": 38,
   "metadata": {
    "scrolled": true
   },
   "outputs": [
    {
     "name": "stdout",
     "output_type": "stream",
     "text": [
      "health status index       uuid                   pri rep docs.count docs.deleted store.size pri.store.size\n",
      "green  open   the_hive_15 g54ZKlu0Q_yFbPxvtNF9Fg   5   0      30998           16     33.2mb         33.2mb\n",
      "green  open   cortex_4    1CGSt9R3Rlm0bc9E-qEkXg   5   0       8531            8       13mb           13mb\n"
     ]
    }
   ],
   "source": [
    "curl -s ${ES_HOST}/_cat/indices\\?v"
   ]
  }
 ],
 "metadata": {
  "kernelspec": {
   "display_name": "Bash",
   "language": "bash",
   "name": "bash"
  },
  "language_info": {
   "codemirror_mode": "shell",
   "file_extension": ".sh",
   "mimetype": "text/x-sh",
   "name": "bash"
  }
 },
 "nbformat": 4,
 "nbformat_minor": 4
}