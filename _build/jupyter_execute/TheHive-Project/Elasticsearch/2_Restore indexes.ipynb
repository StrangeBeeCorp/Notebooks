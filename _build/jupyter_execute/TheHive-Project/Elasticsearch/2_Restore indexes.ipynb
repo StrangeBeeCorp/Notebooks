{
 "cells": [
  {
   "cell_type": "markdown",
   "metadata": {},
   "source": [
    "# Restore indexes"
   ]
  },
  {
   "cell_type": "code",
   "execution_count": 1,
   "metadata": {},
   "outputs": [],
   "source": [
    "ES_HOST=\"http://localhost:9200\""
   ]
  },
  {
   "cell_type": "markdown",
   "metadata": {},
   "source": [
    "## List if index exist"
   ]
  },
  {
   "cell_type": "code",
   "execution_count": 2,
   "metadata": {},
   "outputs": [
    {
     "ename": "",
     "evalue": "7",
     "output_type": "error",
     "traceback": []
    }
   ],
   "source": [
    "curl -s  ''${ES_HOST}'/_cat/indices?v'"
   ]
  },
  {
   "cell_type": "markdown",
   "metadata": {},
   "source": [
    "## Setting up variables"
   ]
  },
  {
   "cell_type": "code",
   "execution_count": 33,
   "metadata": {},
   "outputs": [],
   "source": [
    "THEHIVE_INDEX=\"the_hive_15\"\n",
    "CORTEX_INDEX=\"cortex_4\"\n",
    "\n",
    "SNAPSHOT_PATH=\"the_hive_backup\"\n",
    "BACKUP_FOLDER=\".\"\n"
   ]
  },
  {
   "cell_type": "markdown",
   "metadata": {},
   "source": [
    "### Delete indices"
   ]
  },
  {
   "cell_type": "markdown",
   "metadata": {},
   "source": [
    "## Restore TheHive Index"
   ]
  },
  {
   "cell_type": "markdown",
   "metadata": {},
   "source": [
    "### Setup restore source folder"
   ]
  },
  {
   "cell_type": "code",
   "execution_count": 34,
   "metadata": {},
   "outputs": [
    {
     "name": "stdout",
     "output_type": "stream",
     "text": [
      "\u001b[1;39m{\n",
      "  \u001b[0m\u001b[34;1m\"acknowledged\"\u001b[0m\u001b[1;39m: \u001b[0m\u001b[0;39mtrue\u001b[0m\u001b[1;39m\n",
      "\u001b[1;39m}\u001b[0m\n"
     ]
    }
   ],
   "source": [
    "SNAPSHOT_PATH=\"the_hive_backup\"\n",
    "\n",
    "\n",
    "curl -s -XPUT ''${ES_HOST}'/_snapshot/'${SNAPSHOT_PATH}'' -H 'Content-Type: application/json' -d '{\n",
    "    \"type\": \"fs\",\n",
    "    \"settings\": {\n",
    "        \"location\": \"'${BACKUP_FOLDER}'\",\n",
    "        \"compress\": true\n",
    "    }\n",
    "}' | jq"
   ]
  },
  {
   "cell_type": "markdown",
   "metadata": {},
   "source": [
    "### List backups"
   ]
  },
  {
   "cell_type": "code",
   "execution_count": 35,
   "metadata": {},
   "outputs": [
    {
     "name": "stdout",
     "output_type": "stream",
     "text": [
      "snapshot_1          SUCCESS 1517236911 14:41:51 1517236925 14:42:05 13.6s 17 41 0 41\n",
      "snapshot_2          SUCCESS 1542307572 18:46:12 1542307573 18:46:13 849ms  1  5 0  5\n",
      "snapshot_20181212   SUCCESS 1544617667 12:27:47 1544617667 12:27:47 545ms  1  5 0  5\n",
      "before_demo         SUCCESS 1553003263 13:47:43 1553003265 13:47:45  2.2s  1  5 0  5\n",
      "snapshot_3          SUCCESS 1554119454 11:50:54 1554119455 11:50:55  1.6s  1  5 0  5\n",
      "snapshot_20200804_1 SUCCESS 1596548429 13:40:29 1596548429 13:40:29  22ms  0  0 0  0\n",
      "snapshot_20200804_2 SUCCESS 1596550212 14:10:12 1596550215 14:10:15    3s  1  5 0  5\n",
      "snapshot_20200304_3 SUCCESS 1599684050 20:40:50 1599684053 20:40:53  3.4s  1  5 0  5\n",
      "snapshot_20200910_3 SUCCESS 1599684068 20:41:08 1599684068 20:41:08  84ms  1  5 0  5\n",
      "snapshot_20200910_1 SUCCESS 1599684085 20:41:25 1599684085 20:41:25 117ms  1  5 0  5\n",
      "thehive_20201027-1  SUCCESS 1603821541 17:59:01 1603821542 17:59:02  1.2s  1  5 0  5\n",
      "thehive_20201027-2  SUCCESS 1603821692 18:01:32 1603821692 18:01:32  67ms  1  5 0  5\n",
      "cortex_20201027-2   SUCCESS 1603822017 18:06:57 1603822018 18:06:58  1.6s  1  5 0  5\n",
      "thehive_202010230-1 SUCCESS 1604046277 08:24:37 1604046277 08:24:37 219ms  1  5 0  5\n",
      "cortex_202010230-1  SUCCESS 1604046302 08:25:02 1604046302 08:25:02 260ms  1  5 0  5\n"
     ]
    }
   ],
   "source": [
    "curl -s -XGET  -H ' Content-Type: application/json' ''${ES_HOST}'/_cat/snapshots/'${SNAPSHOT_PATH}''"
   ]
  },
  {
   "cell_type": "markdown",
   "metadata": {},
   "source": [
    "### Restore TheHive data"
   ]
  },
  {
   "cell_type": "code",
   "execution_count": 36,
   "metadata": {},
   "outputs": [
    {
     "name": "stdout",
     "output_type": "stream",
     "text": [
      "\u001b[1;39m{\n",
      "  \u001b[0m\u001b[34;1m\"accepted\"\u001b[0m\u001b[1;39m: \u001b[0m\u001b[0;39mtrue\u001b[0m\u001b[1;39m\n",
      "\u001b[1;39m}\u001b[0m\n"
     ]
    }
   ],
   "source": [
    "THEHIVE_BACKUP_NAME=\"thehive_20201027-2\"\n",
    "\n",
    "\n",
    "curl -s -XPOST  -H 'Content-Type: application/json' \\\n",
    "''${ES_HOST}'/_snapshot/'${SNAPSHOT_PATH}'/'${THEHIVE_BACKUP_NAME}'/_restore' -d '{ \n",
    "\"indices\":\"'\"$THEHIVE_INDEX\"'\"\n",
    "}' | jq"
   ]
  },
  {
   "cell_type": "markdown",
   "metadata": {},
   "source": [
    "### List indexes"
   ]
  },
  {
   "cell_type": "code",
   "execution_count": 37,
   "metadata": {
    "scrolled": true
   },
   "outputs": [
    {
     "name": "stdout",
     "output_type": "stream",
     "text": [
      "health status index       uuid                   pri rep docs.count docs.deleted store.size pri.store.size\n",
      "yellow open   the_hive_15 LsDy35SZTZuIs_J0CnHBmw   5   0      14353            1       229b           229b\n"
     ]
    }
   ],
   "source": [
    "curl -s ${ES_HOST}/_cat/indices\\?v"
   ]
  },
  {
   "cell_type": "markdown",
   "metadata": {},
   "source": [
    "## Restore Cortex Index"
   ]
  },
  {
   "cell_type": "markdown",
   "metadata": {},
   "source": [
    "### Setup restore source folder"
   ]
  },
  {
   "cell_type": "code",
   "execution_count": 38,
   "metadata": {},
   "outputs": [
    {
     "name": "stdout",
     "output_type": "stream",
     "text": [
      "\u001b[1;39m{\n",
      "  \u001b[0m\u001b[34;1m\"acknowledged\"\u001b[0m\u001b[1;39m: \u001b[0m\u001b[0;39mtrue\u001b[0m\u001b[1;39m\n",
      "\u001b[1;39m}\u001b[0m\n"
     ]
    }
   ],
   "source": [
    "BACKUP_FOLDER=\".\"\n",
    "CORTEX_SNAPSHOT_PATH=\"the_hive_backup\"\n",
    "\n",
    "curl -s -XPUT ''${ES_HOST}'/_snapshot/'${CORTEX_SNAPSHOT_PATH}'' -H 'Content-Type: application/json' -d '{\n",
    "    \"type\": \"fs\",\n",
    "    \"settings\": {\n",
    "        \"location\": \"'${BACKUP_FOLDER}'\",\n",
    "        \"compress\": true\n",
    "    }\n",
    "}' | jq"
   ]
  },
  {
   "cell_type": "markdown",
   "metadata": {},
   "source": [
    "### List backups"
   ]
  },
  {
   "cell_type": "code",
   "execution_count": 39,
   "metadata": {},
   "outputs": [
    {
     "name": "stdout",
     "output_type": "stream",
     "text": [
      "snapshot_1          SUCCESS 1517236911 14:41:51 1517236925 14:42:05 13.6s 17 41 0 41\n",
      "snapshot_2          SUCCESS 1542307572 18:46:12 1542307573 18:46:13 849ms  1  5 0  5\n",
      "snapshot_20181212   SUCCESS 1544617667 12:27:47 1544617667 12:27:47 545ms  1  5 0  5\n",
      "before_demo         SUCCESS 1553003263 13:47:43 1553003265 13:47:45  2.2s  1  5 0  5\n",
      "snapshot_3          SUCCESS 1554119454 11:50:54 1554119455 11:50:55  1.6s  1  5 0  5\n",
      "snapshot_20200804_1 SUCCESS 1596548429 13:40:29 1596548429 13:40:29  22ms  0  0 0  0\n",
      "snapshot_20200804_2 SUCCESS 1596550212 14:10:12 1596550215 14:10:15    3s  1  5 0  5\n",
      "snapshot_20200304_3 SUCCESS 1599684050 20:40:50 1599684053 20:40:53  3.4s  1  5 0  5\n",
      "snapshot_20200910_3 SUCCESS 1599684068 20:41:08 1599684068 20:41:08  84ms  1  5 0  5\n",
      "snapshot_20200910_1 SUCCESS 1599684085 20:41:25 1599684085 20:41:25 117ms  1  5 0  5\n",
      "thehive_20201027-1  SUCCESS 1603821541 17:59:01 1603821542 17:59:02  1.2s  1  5 0  5\n",
      "thehive_20201027-2  SUCCESS 1603821692 18:01:32 1603821692 18:01:32  67ms  1  5 0  5\n",
      "cortex_20201027-2   SUCCESS 1603822017 18:06:57 1603822018 18:06:58  1.6s  1  5 0  5\n",
      "thehive_202010230-1 SUCCESS 1604046277 08:24:37 1604046277 08:24:37 219ms  1  5 0  5\n",
      "cortex_202010230-1  SUCCESS 1604046302 08:25:02 1604046302 08:25:02 260ms  1  5 0  5\n"
     ]
    }
   ],
   "source": [
    "curl -s -XGET  -H' Content-Type: application/json' ''${ES_HOST}'/_cat/snapshots/'${CORTEX_SNAPSHOT_PATH}''"
   ]
  },
  {
   "cell_type": "markdown",
   "metadata": {},
   "source": [
    "### Restore  data"
   ]
  },
  {
   "cell_type": "code",
   "execution_count": 40,
   "metadata": {},
   "outputs": [
    {
     "name": "stdout",
     "output_type": "stream",
     "text": [
      "\u001b[1;39m{\n",
      "  \u001b[0m\u001b[34;1m\"accepted\"\u001b[0m\u001b[1;39m: \u001b[0m\u001b[0;39mtrue\u001b[0m\u001b[1;39m\n",
      "\u001b[1;39m}\u001b[0m\n"
     ]
    }
   ],
   "source": [
    "CORTEX_BACKUP_NAME=\"cortex_20201027-2\"\n",
    "\n",
    "curl -s -XPOST  -H 'Content-Type: application/json' \\\n",
    "''${ES_HOST}'/_snapshot/'${CORTEX_SNAPSHOT_PATH}'/'${CORTEX_BACKUP_NAME}'/_restore' -d '{\n",
    "\"indices\":\"'${CORTEX_INDEX}'\"\n",
    "}' | jq"
   ]
  },
  {
   "cell_type": "markdown",
   "metadata": {},
   "source": [
    "### List indexes"
   ]
  },
  {
   "cell_type": "code",
   "execution_count": 41,
   "metadata": {
    "scrolled": true
   },
   "outputs": [
    {
     "name": "stdout",
     "output_type": "stream",
     "text": [
      "health status index       uuid                   pri rep docs.count docs.deleted store.size pri.store.size\n",
      "green  open   cortex_4    oZhsLd1KQAy92SHu-xnEaw   5   0       8531            8      4.7mb          4.7mb\n",
      "green  open   the_hive_15 LsDy35SZTZuIs_J0CnHBmw   5   0      30998           16        6mb            6mb\n"
     ]
    }
   ],
   "source": [
    "curl -s ${ES_HOST}/_cat/indices\\?v"
   ]
  }
 ],
 "metadata": {
  "kernelspec": {
   "display_name": "Bash",
   "language": "bash",
   "name": "bash"
  },
  "language_info": {
   "codemirror_mode": "shell",
   "file_extension": ".sh",
   "mimetype": "text/x-sh",
   "name": "bash"
  }
 },
 "nbformat": 4,
 "nbformat_minor": 4
}