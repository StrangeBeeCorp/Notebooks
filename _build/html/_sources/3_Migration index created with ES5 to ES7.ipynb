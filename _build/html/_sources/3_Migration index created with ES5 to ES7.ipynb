{
 "cells": [
  {
   "cell_type": "markdown",
   "metadata": {},
   "source": [
    "# Migration of index of TheHive and Cortex created with ES5 to ES7"
   ]
  },
  {
   "cell_type": "code",
   "execution_count": 40,
   "metadata": {},
   "outputs": [],
   "source": [
    "ES_HOST='http://localhost:9200'"
   ]
  },
  {
   "cell_type": "markdown",
   "metadata": {},
   "source": [
    "## List available indices"
   ]
  },
  {
   "cell_type": "code",
   "execution_count": 61,
   "metadata": {
    "scrolled": true
   },
   "outputs": [
    {
     "name": "stdout",
     "output_type": "stream",
     "text": [
      "health status index           uuid                   pri rep docs.count docs.deleted store.size pri.store.size\n",
      "green  open   new_cortex_4    npVQIiOfQaG1XL1AQxKm8g   5   0       8531            0     12.6mb         12.6mb\n",
      "green  open   new_the_hive_15 2Y2fEs9fSii87NSxyVtTew   5   0      30998            0     26.1mb         26.1mb\n"
     ]
    }
   ],
   "source": [
    "curl -s ${ES_HOST}/_cat/indices\\?v"
   ]
  },
  {
   "cell_type": "code",
   "execution_count": 62,
   "metadata": {},
   "outputs": [
    {
     "name": "stdout",
     "output_type": "stream",
     "text": [
      "health status index           uuid                   pri rep docs.count docs.deleted store.size pri.store.size\n",
      "green  open   new_cortex_4    npVQIiOfQaG1XL1AQxKm8g   5   0       8531            0     12.6mb         12.6mb\n",
      "green  open   new_the_hive_15 2Y2fEs9fSii87NSxyVtTew   5   0      30998            0     26.1mb         26.1mb\n"
     ]
    }
   ],
   "source": [
    "curl -s ${ES_HOST}/_cat/indices\\?v"
   ]
  },
  {
   "cell_type": "markdown",
   "metadata": {},
   "source": [
    "If not, restore indexes."
   ]
  },
  {
   "cell_type": "markdown",
   "metadata": {},
   "source": [
    "## Setting up variables"
   ]
  },
  {
   "cell_type": "code",
   "execution_count": 42,
   "metadata": {},
   "outputs": [],
   "source": [
    "THEHIVE_INDEX=\"the_hive_15\"\n",
    "CORTEX_INDEX=\"cortex_4\"\n",
    "NEW_THEHIVE_INDEX=\"new_the_hive_15\"\n",
    "NEW_CORTEX_INDEX=\"new_cortex_4\""
   ]
  },
  {
   "cell_type": "markdown",
   "metadata": {},
   "source": [
    "## TheHive index"
   ]
  },
  {
   "cell_type": "markdown",
   "metadata": {},
   "source": [
    "### Update the index ? \n",
    "\n",
    "Check wether you need to reindex or not."
   ]
  },
  {
   "cell_type": "code",
   "execution_count": 43,
   "metadata": {},
   "outputs": [
    {
     "name": "stdout",
     "output_type": "stream",
     "text": [
      "\u001b[0;32m\"5.6.13\"\u001b[0m\n"
     ]
    }
   ],
   "source": [
    "curl -s ''${ES_HOST}/${THEHIVE_INDEX}'?human' | jq '.'${THEHIVE_INDEX}'.settings.index.version.created_string'"
   ]
  },
  {
   "cell_type": "markdown",
   "metadata": {},
   "source": [
    "**If this start with '5.x' then proceed with next steps.** If result starts with '6.x' then, the index is ready for ES7."
   ]
  },
  {
   "cell_type": "markdown",
   "metadata": {},
   "source": [
    "### Create a new index\n",
    "\n",
    "The First operation lies in creating a new index named `new_the_hive_15` with settings from current index `the_hive_15` (ensure to keep index version, needed for future upgrade)."
   ]
  },
  {
   "cell_type": "code",
   "execution_count": 44,
   "metadata": {},
   "outputs": [
    {
     "name": "stdout",
     "output_type": "stream",
     "text": [
      "\u001b[1;39m{\n",
      "  \u001b[0m\u001b[34;1m\"acknowledged\"\u001b[0m\u001b[1;39m: \u001b[0m\u001b[0;39mtrue\u001b[0m\u001b[1;39m,\n",
      "  \u001b[0m\u001b[34;1m\"shards_acknowledged\"\u001b[0m\u001b[1;39m: \u001b[0m\u001b[0;39mtrue\u001b[0m\u001b[1;39m,\n",
      "  \u001b[0m\u001b[34;1m\"index\"\u001b[0m\u001b[1;39m: \u001b[0m\u001b[0;32m\"new_the_hive_15\"\u001b[0m\u001b[1;39m\n",
      "\u001b[1;39m}\u001b[0m\n"
     ]
    }
   ],
   "source": [
    "curl -s -XPUT ''${ES_HOST}'/'${NEW_THEHIVE_INDEX}'' \\\n",
    "  -H 'Content-Type: application/json' \\\n",
    "  -d \"$(curl -s ${ES_HOST}/${THEHIVE_INDEX} |\\\n",
    "   jq '.'${THEHIVE_INDEX}'|\n",
    "   del(.settings.index.provided_name,\n",
    "    .settings.index.creation_date,\n",
    "    .settings.index.uuid,\n",
    "    .settings.index.version,\n",
    "    .settings.index.mapping.single_type,\n",
    "    .mappings.doc._all)'\n",
    "    )\" | jq"
   ]
  },
  {
   "cell_type": "markdown",
   "metadata": {},
   "source": [
    "#### Check\n",
    "\n",
    "Check the new index is well created:"
   ]
  },
  {
   "cell_type": "code",
   "execution_count": 45,
   "metadata": {
    "scrolled": true
   },
   "outputs": [
    {
     "name": "stdout",
     "output_type": "stream",
     "text": [
      "health status index           uuid                   pri rep docs.count docs.deleted store.size pri.store.size\n",
      "green  open   new_the_hive_15 2Y2fEs9fSii87NSxyVtTew   5   0          0            0       460b           460b\n",
      "green  open   the_hive_15     pT9kFs-oQP2J6E-PGxXJqg   5   0      30998           16     33.2mb         33.2mb\n",
      "green  open   cortex_4        YzDbXlYAS0q15z14wmhWLQ   5   0       8531            8       13mb           13mb\n"
     ]
    }
   ],
   "source": [
    "curl -s ${ES_HOST}/_cat/indices\\?v"
   ]
  },
  {
   "cell_type": "markdown",
   "metadata": {},
   "source": [
    "### Proceed to reindex\n",
    "\n",
    "Next operation lies in running the reindex command in the newly created index. **This action can take some time**:"
   ]
  },
  {
   "cell_type": "code",
   "execution_count": 46,
   "metadata": {},
   "outputs": [
    {
     "name": "stdout",
     "output_type": "stream",
     "text": [
      "\u001b[1;39m{\n",
      "  \u001b[0m\u001b[34;1m\"took\"\u001b[0m\u001b[1;39m: \u001b[0m\u001b[0;39m8370\u001b[0m\u001b[1;39m,\n",
      "  \u001b[0m\u001b[34;1m\"timed_out\"\u001b[0m\u001b[1;39m: \u001b[0m\u001b[0;39mfalse\u001b[0m\u001b[1;39m,\n",
      "  \u001b[0m\u001b[34;1m\"total\"\u001b[0m\u001b[1;39m: \u001b[0m\u001b[0;39m5900\u001b[0m\u001b[1;39m,\n",
      "  \u001b[0m\u001b[34;1m\"updated\"\u001b[0m\u001b[1;39m: \u001b[0m\u001b[0;39m0\u001b[0m\u001b[1;39m,\n",
      "  \u001b[0m\u001b[34;1m\"created\"\u001b[0m\u001b[1;39m: \u001b[0m\u001b[0;39m5900\u001b[0m\u001b[1;39m,\n",
      "  \u001b[0m\u001b[34;1m\"deleted\"\u001b[0m\u001b[1;39m: \u001b[0m\u001b[0;39m0\u001b[0m\u001b[1;39m,\n",
      "  \u001b[0m\u001b[34;1m\"batches\"\u001b[0m\u001b[1;39m: \u001b[0m\u001b[0;39m6\u001b[0m\u001b[1;39m,\n",
      "  \u001b[0m\u001b[34;1m\"version_conflicts\"\u001b[0m\u001b[1;39m: \u001b[0m\u001b[0;39m0\u001b[0m\u001b[1;39m,\n",
      "  \u001b[0m\u001b[34;1m\"noops\"\u001b[0m\u001b[1;39m: \u001b[0m\u001b[0;39m0\u001b[0m\u001b[1;39m,\n",
      "  \u001b[0m\u001b[34;1m\"retries\"\u001b[0m\u001b[1;39m: \u001b[0m\u001b[1;39m{\n",
      "    \u001b[0m\u001b[34;1m\"bulk\"\u001b[0m\u001b[1;39m: \u001b[0m\u001b[0;39m0\u001b[0m\u001b[1;39m,\n",
      "    \u001b[0m\u001b[34;1m\"search\"\u001b[0m\u001b[1;39m: \u001b[0m\u001b[0;39m0\u001b[0m\u001b[1;39m\n",
      "  \u001b[1;39m}\u001b[0m\u001b[1;39m,\n",
      "  \u001b[0m\u001b[34;1m\"throttled_millis\"\u001b[0m\u001b[1;39m: \u001b[0m\u001b[0;39m0\u001b[0m\u001b[1;39m,\n",
      "  \u001b[0m\u001b[34;1m\"requests_per_second\"\u001b[0m\u001b[1;39m: \u001b[0m\u001b[0;39m-1\u001b[0m\u001b[1;39m,\n",
      "  \u001b[0m\u001b[34;1m\"throttled_until_millis\"\u001b[0m\u001b[1;39m: \u001b[0m\u001b[0;39m0\u001b[0m\u001b[1;39m,\n",
      "  \u001b[0m\u001b[34;1m\"failures\"\u001b[0m\u001b[1;39m: \u001b[0m\u001b[1;39m[]\u001b[0m\u001b[1;39m\n",
      "\u001b[1;39m}\u001b[0m\n"
     ]
    }
   ],
   "source": [
    "curl -s -XPOST -H 'Content-Type: application/json' ${ES_HOST}/_reindex -d '{\n",
    "  \"conflicts\": \"proceed\",\n",
    "  \"source\": {\n",
    "    \"index\": \"'${THEHIVE_INDEX}'\"\n",
    "  },\n",
    "  \"dest\": {\n",
    "    \"index\": \"'${NEW_THEHIVE_INDEX}'\"\n",
    "  }\n",
    "}' | jq"
   ]
  },
  {
   "cell_type": "markdown",
   "metadata": {},
   "source": [
    "#### Check \n",
    "\n",
    "Run the following command, and ensure the new index is like the current one (size can vary):"
   ]
  },
  {
   "cell_type": "code",
   "execution_count": 47,
   "metadata": {
    "scrolled": false
   },
   "outputs": [
    {
     "name": "stdout",
     "output_type": "stream",
     "text": [
      "health status index           uuid                   pri rep docs.count docs.deleted store.size pri.store.size\n",
      "green  open   new_the_hive_15 2Y2fEs9fSii87NSxyVtTew   5   0      30998            0     26.1mb         26.1mb\n",
      "green  open   the_hive_15     pT9kFs-oQP2J6E-PGxXJqg   5   0      30998           16     33.2mb         33.2mb\n",
      "green  open   cortex_4        YzDbXlYAS0q15z14wmhWLQ   5   0       8531            8       13mb           13mb\n"
     ]
    }
   ],
   "source": [
    "curl -s ${ES_HOST}/_cat/indices\\?v"
   ]
  },
  {
   "cell_type": "markdown",
   "metadata": {},
   "source": [
    "\n",
    "### Delete old indices\n",
    "\n",
    "This is the thrilling part. \n",
    "Now the new index `new_the_hive_15` is created and similar the_hive_15,  older indexes **should be completely deleted** from the database. To delete index named `the_hive_15`, run the following command:  \n",
    "\n",
    "\n",
    "Run the same command for older indexes if exist (the_hive_14, the_hive_13....). Elasticsearch 7.x cannot run with index created with Elasticsearch 5.x.\n",
    "\n"
   ]
  },
  {
   "cell_type": "code",
   "execution_count": 48,
   "metadata": {},
   "outputs": [
    {
     "name": "stdout",
     "output_type": "stream",
     "text": [
      "\u001b[1;39m{\n",
      "  \u001b[0m\u001b[34;1m\"acknowledged\"\u001b[0m\u001b[1;39m: \u001b[0m\u001b[0;39mtrue\u001b[0m\u001b[1;39m\n",
      "\u001b[1;39m}\u001b[0m\n"
     ]
    }
   ],
   "source": [
    "curl -s -XDELETE ${ES_HOST}/$THEHIVE_INDEX | jq"
   ]
  },
  {
   "cell_type": "markdown",
   "metadata": {},
   "source": [
    "### Create an alias \n",
    "\n",
    "Before stopping Elasticsearch service, let’s create an alias to keep index names in the future.  \n",
    "\n",
    "Doing so will allow TheHive 3.5.0 to find the index without updating the configuration file. "
   ]
  },
  {
   "cell_type": "code",
   "execution_count": 49,
   "metadata": {},
   "outputs": [
    {
     "name": "stdout",
     "output_type": "stream",
     "text": [
      "\u001b[1;39m{\n",
      "  \u001b[0m\u001b[34;1m\"acknowledged\"\u001b[0m\u001b[1;39m: \u001b[0m\u001b[0;39mtrue\u001b[0m\u001b[1;39m\n",
      "\u001b[1;39m}\u001b[0m\n"
     ]
    }
   ],
   "source": [
    "curl -s -XPOST -H 'Content-Type: application/json'  ''${ES_HOST}'/_aliases' -d '{\n",
    "    \"actions\": [\n",
    "        {\n",
    "            \"add\": {\n",
    "                \"index\": \"'${NEW_THEHIVE_INDEX}'\",\n",
    "                \"alias\": \"'${THEHIVE_INDEX}'\"\n",
    "            }\n",
    "        }\n",
    "    ]\n",
    "}' | jq"
   ]
  },
  {
   "cell_type": "markdown",
   "metadata": {},
   "source": [
    "Check the alias has been well created by running the following command."
   ]
  },
  {
   "cell_type": "code",
   "execution_count": 50,
   "metadata": {
    "scrolled": true
   },
   "outputs": [
    {
     "name": "stdout",
     "output_type": "stream",
     "text": [
      "{\n",
      "  \"cortex_4\" : {\n",
      "    \"aliases\" : { }\n",
      "  },\n",
      "  \"new_the_hive_15\" : {\n",
      "    \"aliases\" : {\n",
      "      \"the_hive_15\" : { }\n",
      "    }\n",
      "  }\n",
      "}\n"
     ]
    }
   ],
   "source": [
    "curl -s -XGET ${ES_HOST}/_alias?pretty "
   ]
  },
  {
   "cell_type": "markdown",
   "metadata": {},
   "source": [
    "### Check the alias is reachable and your index is ready for ES 7"
   ]
  },
  {
   "cell_type": "code",
   "execution_count": 51,
   "metadata": {},
   "outputs": [
    {
     "name": "stdout",
     "output_type": "stream",
     "text": [
      "\u001b[0;32m\"6.8.13\"\u001b[0m\n"
     ]
    }
   ],
   "source": [
    "curl -s ''${ES_HOST}/${THEHIVE_INDEX}'?human' | jq '.'${NEW_THEHIVE_INDEX}'.settings.index.version.created_string'"
   ]
  },
  {
   "cell_type": "markdown",
   "metadata": {},
   "source": [
    "**TheHive is ready to be used with the restored data**"
   ]
  },
  {
   "cell_type": "markdown",
   "metadata": {},
   "source": [
    "## Cortex index"
   ]
  },
  {
   "cell_type": "markdown",
   "metadata": {},
   "source": [
    "### Update the index ? "
   ]
  },
  {
   "cell_type": "code",
   "execution_count": 52,
   "metadata": {},
   "outputs": [
    {
     "name": "stdout",
     "output_type": "stream",
     "text": [
      "\u001b[0;32m\"5.6.13\"\u001b[0m\n"
     ]
    }
   ],
   "source": [
    "curl -s ''${ES_HOST}/${CORTEX_INDEX}'?human' | jq '.'${CORTEX_INDEX}'.settings.index.version.created_string'"
   ]
  },
  {
   "cell_type": "markdown",
   "metadata": {},
   "source": [
    "**If this start with '5.x' then proceed with next steps.** If result starts with '6.x' then, the index is ready for ES7."
   ]
  },
  {
   "cell_type": "markdown",
   "metadata": {},
   "source": [
    "### Create a new index\n",
    "\n",
    "The First operation lies in creating a new index named `new_cortex_4` with settings from current index `cortex_4` (ensure to keep index version, needed for future upgrade)."
   ]
  },
  {
   "cell_type": "code",
   "execution_count": 53,
   "metadata": {},
   "outputs": [
    {
     "name": "stdout",
     "output_type": "stream",
     "text": [
      "\u001b[1;39m{\n",
      "  \u001b[0m\u001b[34;1m\"acknowledged\"\u001b[0m\u001b[1;39m: \u001b[0m\u001b[0;39mtrue\u001b[0m\u001b[1;39m,\n",
      "  \u001b[0m\u001b[34;1m\"shards_acknowledged\"\u001b[0m\u001b[1;39m: \u001b[0m\u001b[0;39mtrue\u001b[0m\u001b[1;39m,\n",
      "  \u001b[0m\u001b[34;1m\"index\"\u001b[0m\u001b[1;39m: \u001b[0m\u001b[0;32m\"new_cortex_4\"\u001b[0m\u001b[1;39m\n",
      "\u001b[1;39m}\u001b[0m\n"
     ]
    }
   ],
   "source": [
    "curl -s -XPUT ''${ES_HOST}/${NEW_CORTEX_INDEX}'' \\\n",
    "  -H 'Content-Type: application/json' \\\n",
    "  -d \"$(curl -s ${ES_HOST}/${CORTEX_INDEX} |\\\n",
    "   jq '.'${CORTEX_INDEX}' |\n",
    "   del(.settings.index.provided_name,\n",
    "    .settings.index.creation_date,\n",
    "    .settings.index.uuid,\n",
    "    .settings.index.version,\n",
    "    .settings.index.mapping.single_type,\n",
    "    .mappings.doc._all)'\n",
    "    )\" | jq"
   ]
  },
  {
   "cell_type": "markdown",
   "metadata": {},
   "source": [
    "#### Check\n",
    "\n",
    "Check the new index is well created:"
   ]
  },
  {
   "cell_type": "code",
   "execution_count": 54,
   "metadata": {},
   "outputs": [
    {
     "name": "stdout",
     "output_type": "stream",
     "text": [
      "health status index           uuid                   pri rep docs.count docs.deleted store.size pri.store.size\n",
      "green  open   new_cortex_4    npVQIiOfQaG1XL1AQxKm8g   5   0          0            0       401b           401b\n",
      "green  open   new_the_hive_15 2Y2fEs9fSii87NSxyVtTew   5   0      30998            0     26.1mb         26.1mb\n",
      "green  open   cortex_4        YzDbXlYAS0q15z14wmhWLQ   5   0       8531            8       13mb           13mb\n"
     ]
    }
   ],
   "source": [
    "curl -s ${ES_HOST}/_cat/indices\\?v"
   ]
  },
  {
   "cell_type": "markdown",
   "metadata": {},
   "source": [
    "### Proceed to reindex\n",
    "\n",
    "Next operation lies in running the reindex command in the newly created index:"
   ]
  },
  {
   "cell_type": "code",
   "execution_count": 55,
   "metadata": {},
   "outputs": [
    {
     "name": "stdout",
     "output_type": "stream",
     "text": [
      "\u001b[1;39m{\n",
      "  \u001b[0m\u001b[34;1m\"took\"\u001b[0m\u001b[1;39m: \u001b[0m\u001b[0;39m2039\u001b[0m\u001b[1;39m,\n",
      "  \u001b[0m\u001b[34;1m\"timed_out\"\u001b[0m\u001b[1;39m: \u001b[0m\u001b[0;39mfalse\u001b[0m\u001b[1;39m,\n",
      "  \u001b[0m\u001b[34;1m\"total\"\u001b[0m\u001b[1;39m: \u001b[0m\u001b[0;39m8155\u001b[0m\u001b[1;39m,\n",
      "  \u001b[0m\u001b[34;1m\"updated\"\u001b[0m\u001b[1;39m: \u001b[0m\u001b[0;39m0\u001b[0m\u001b[1;39m,\n",
      "  \u001b[0m\u001b[34;1m\"created\"\u001b[0m\u001b[1;39m: \u001b[0m\u001b[0;39m8155\u001b[0m\u001b[1;39m,\n",
      "  \u001b[0m\u001b[34;1m\"deleted\"\u001b[0m\u001b[1;39m: \u001b[0m\u001b[0;39m0\u001b[0m\u001b[1;39m,\n",
      "  \u001b[0m\u001b[34;1m\"batches\"\u001b[0m\u001b[1;39m: \u001b[0m\u001b[0;39m9\u001b[0m\u001b[1;39m,\n",
      "  \u001b[0m\u001b[34;1m\"version_conflicts\"\u001b[0m\u001b[1;39m: \u001b[0m\u001b[0;39m0\u001b[0m\u001b[1;39m,\n",
      "  \u001b[0m\u001b[34;1m\"noops\"\u001b[0m\u001b[1;39m: \u001b[0m\u001b[0;39m0\u001b[0m\u001b[1;39m,\n",
      "  \u001b[0m\u001b[34;1m\"retries\"\u001b[0m\u001b[1;39m: \u001b[0m\u001b[1;39m{\n",
      "    \u001b[0m\u001b[34;1m\"bulk\"\u001b[0m\u001b[1;39m: \u001b[0m\u001b[0;39m0\u001b[0m\u001b[1;39m,\n",
      "    \u001b[0m\u001b[34;1m\"search\"\u001b[0m\u001b[1;39m: \u001b[0m\u001b[0;39m0\u001b[0m\u001b[1;39m\n",
      "  \u001b[1;39m}\u001b[0m\u001b[1;39m,\n",
      "  \u001b[0m\u001b[34;1m\"throttled_millis\"\u001b[0m\u001b[1;39m: \u001b[0m\u001b[0;39m0\u001b[0m\u001b[1;39m,\n",
      "  \u001b[0m\u001b[34;1m\"requests_per_second\"\u001b[0m\u001b[1;39m: \u001b[0m\u001b[0;39m-1\u001b[0m\u001b[1;39m,\n",
      "  \u001b[0m\u001b[34;1m\"throttled_until_millis\"\u001b[0m\u001b[1;39m: \u001b[0m\u001b[0;39m0\u001b[0m\u001b[1;39m,\n",
      "  \u001b[0m\u001b[34;1m\"failures\"\u001b[0m\u001b[1;39m: \u001b[0m\u001b[1;39m[]\u001b[0m\u001b[1;39m\n",
      "\u001b[1;39m}\u001b[0m\n"
     ]
    }
   ],
   "source": [
    "curl -s -XPOST -H 'Content-Type: application/json' ${ES_HOST}/_reindex -d '{\n",
    "  \"conflicts\": \"proceed\",\n",
    "  \"source\": {\n",
    "    \"index\": \"'${CORTEX_INDEX}'\"\n",
    "  },\n",
    "  \"dest\": {\n",
    "    \"index\": \"'${NEW_CORTEX_INDEX}'\"\n",
    "  }\n",
    "}' | jq"
   ]
  },
  {
   "cell_type": "markdown",
   "metadata": {},
   "source": [
    "#### Check \n",
    "\n",
    "Run the following command, and ensure the new index is like the current one (size can vary):"
   ]
  },
  {
   "cell_type": "code",
   "execution_count": 56,
   "metadata": {
    "scrolled": false
   },
   "outputs": [
    {
     "name": "stdout",
     "output_type": "stream",
     "text": [
      "health status index           uuid                   pri rep docs.count docs.deleted store.size pri.store.size\n",
      "green  open   new_cortex_4    npVQIiOfQaG1XL1AQxKm8g   5   0       8531            0     12.6mb         12.6mb\n",
      "green  open   new_the_hive_15 2Y2fEs9fSii87NSxyVtTew   5   0      30998            0     26.1mb         26.1mb\n",
      "green  open   cortex_4        YzDbXlYAS0q15z14wmhWLQ   5   0       8531            8       13mb           13mb\n"
     ]
    }
   ],
   "source": [
    "curl -s ${ES_HOST}/_cat/indices\\?v"
   ]
  },
  {
   "cell_type": "markdown",
   "metadata": {},
   "source": [
    "\n",
    "### Delete old indices\n",
    "\n",
    "This is the thrilling part. \n",
    "Now the new index `new_cortex_4` is created and similar cortex_4,  older indexes **should be completely deleted** from the database. To delete index named `cortex_4`, run the following command:  \n",
    "\n",
    "\n",
    "Run the same command for older indexes if exist (cortex_1, cortex_2....). Elasticsearch 7.x cannot run with index created with Elasticsearch 5.x.\n",
    "\n"
   ]
  },
  {
   "cell_type": "code",
   "execution_count": 57,
   "metadata": {},
   "outputs": [
    {
     "name": "stdout",
     "output_type": "stream",
     "text": [
      "\u001b[1;39m{\n",
      "  \u001b[0m\u001b[34;1m\"acknowledged\"\u001b[0m\u001b[1;39m: \u001b[0m\u001b[0;39mtrue\u001b[0m\u001b[1;39m\n",
      "\u001b[1;39m}\u001b[0m\n"
     ]
    }
   ],
   "source": [
    "curl -s -XDELETE ${ES_HOST}/$CORTEX_INDEX | jq"
   ]
  },
  {
   "cell_type": "markdown",
   "metadata": {},
   "source": [
    "### Create an alias \n",
    "\n",
    "Before stopping Elasticsearch service, let’s create an alias to keep index names in the future.  \n",
    "\n",
    "Doing so will allow Cortex 3.1.0 to find the index without updating the configuration file. "
   ]
  },
  {
   "cell_type": "code",
   "execution_count": 58,
   "metadata": {},
   "outputs": [
    {
     "name": "stdout",
     "output_type": "stream",
     "text": [
      "\u001b[1;39m{\n",
      "  \u001b[0m\u001b[34;1m\"acknowledged\"\u001b[0m\u001b[1;39m: \u001b[0m\u001b[0;39mtrue\u001b[0m\u001b[1;39m\n",
      "\u001b[1;39m}\u001b[0m\n"
     ]
    }
   ],
   "source": [
    "curl -s -XPOST -H 'Content-Type: application/json'  ''${ES_HOST}'/_aliases' -d '{\n",
    "    \"actions\": [\n",
    "        {\n",
    "            \"add\": {\n",
    "                \"index\": \"'${NEW_CORTEX_INDEX}'\",\n",
    "                \"alias\": \"'${CORTEX_INDEX}'\"\n",
    "            }\n",
    "        }\n",
    "    ]\n",
    "}' | jq"
   ]
  },
  {
   "cell_type": "markdown",
   "metadata": {},
   "source": [
    "Check the alias has been well created by running the following command:"
   ]
  },
  {
   "cell_type": "code",
   "execution_count": 59,
   "metadata": {
    "scrolled": true
   },
   "outputs": [
    {
     "name": "stdout",
     "output_type": "stream",
     "text": [
      "{\n",
      "  \"new_cortex_4\" : {\n",
      "    \"aliases\" : {\n",
      "      \"cortex_4\" : { }\n",
      "    }\n",
      "  },\n",
      "  \"new_the_hive_15\" : {\n",
      "    \"aliases\" : {\n",
      "      \"the_hive_15\" : { }\n",
      "    }\n",
      "  }\n",
      "}\n"
     ]
    }
   ],
   "source": [
    "curl -s -XGET ${ES_HOST}/_alias?pretty "
   ]
  },
  {
   "cell_type": "markdown",
   "metadata": {},
   "source": [
    "### Check the alias is reachable and version of index is 6.x"
   ]
  },
  {
   "cell_type": "code",
   "execution_count": 60,
   "metadata": {},
   "outputs": [
    {
     "name": "stdout",
     "output_type": "stream",
     "text": [
      "\u001b[0;32m\"6.8.13\"\u001b[0m\n"
     ]
    }
   ],
   "source": [
    "curl -s ''${ES_HOST}/${CORTEX_INDEX}'?human' | jq '.'${NEW_CORTEX_INDEX}'.settings.index.version.created_string'"
   ]
  },
  {
   "cell_type": "markdown",
   "metadata": {},
   "source": [
    "**Cortex is ready to be used with the restored data**"
   ]
  }
 ],
 "metadata": {
  "kernelspec": {
   "display_name": "Bash",
   "language": "bash",
   "name": "bash"
  },
  "language_info": {
   "codemirror_mode": "shell",
   "file_extension": ".sh",
   "mimetype": "text/x-sh",
   "name": "bash"
  }
 },
 "nbformat": 4,
 "nbformat_minor": 4
}
